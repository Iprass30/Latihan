{
  "nbformat": 4,
  "nbformat_minor": 0,
  "metadata": {
    "colab": {
      "name": "Menghitung volume.ipynb",
      "provenance": [],
      "collapsed_sections": [],
      "include_colab_link": true
    },
    "kernelspec": {
      "name": "python3",
      "display_name": "Python 3"
    }
  },
  "cells": [
    {
      "cell_type": "markdown",
      "metadata": {
        "id": "view-in-github",
        "colab_type": "text"
      },
      "source": [
        "<a href=\"https://colab.research.google.com/github/Iprass30/Latihan/blob/main/Menghitung_volume.ipynb\" target=\"_parent\"><img src=\"https://colab.research.google.com/assets/colab-badge.svg\" alt=\"Open In Colab\"/></a>"
      ]
    },
    {
      "cell_type": "markdown",
      "metadata": {
        "id": "-21l0uwuvYZL"
      },
      "source": [
        "##**Fungsi Pada Python**"
      ]
    },
    {
      "cell_type": "markdown",
      "metadata": {
        "id": "ecvSTQdRvc-0"
      },
      "source": [
        "Buatlah sebuah fungsi dengan input p, l, dan t. untuk menghitung Volume sebuah balok. Waktu mengerjakan 10 menit"
      ]
    },
    {
      "cell_type": "code",
      "metadata": {
        "id": "Ndl9m8FKvXdK",
        "colab": {
          "base_uri": "https://localhost:8080/"
        },
        "outputId": "c2861e89-be15-4e81-e575-af1c848b550e"
      },
      "source": [
        "#Tuliskan kodingmu di sini\n",
        "p=int(input('panjang balok: '))\n",
        "l=int(input('lebar balok: '))\n",
        "t=int(input('tinggi balok: '))\n",
        "def volumebalok(p,l,t):\n",
        "    \"menghitung volume balok\"\n",
        "    V=p*l*t\n",
        "    return (V)\n",
        "print(volumebalok(p,l,t))"
      ],
      "execution_count": 11,
      "outputs": [
        {
          "output_type": "stream",
          "text": [
            "panjang balok: 12\n",
            "lebar balok: 13\n",
            "tinggi balok: 14\n",
            "2184\n"
          ],
          "name": "stdout"
        }
      ]
    },
    {
      "cell_type": "markdown",
      "metadata": {
        "id": "db57LD0Av7j0"
      },
      "source": [
        "Share link colabmu di GC, pastikan setting share untuk semua orang di UAD"
      ]
    }
  ]
}