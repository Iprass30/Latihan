{
  "nbformat": 4,
  "nbformat_minor": 0,
  "metadata": {
    "colab": {
      "name": "List ganjil genap.ipynb",
      "provenance": [],
      "collapsed_sections": [],
      "include_colab_link": true
    },
    "kernelspec": {
      "name": "python3",
      "display_name": "Python 3"
    }
  },
  "cells": [
    {
      "cell_type": "markdown",
      "metadata": {
        "id": "view-in-github",
        "colab_type": "text"
      },
      "source": [
        "<a href=\"https://colab.research.google.com/github/Iprass30/Latihan/blob/main/List_ganjil_genap.ipynb\" target=\"_parent\"><img src=\"https://colab.research.google.com/assets/colab-badge.svg\" alt=\"Open In Colab\"/></a>"
      ]
    },
    {
      "cell_type": "markdown",
      "metadata": {
        "id": "01MkKk16t8hU"
      },
      "source": [
        "##**Struktur Data**"
      ]
    },
    {
      "cell_type": "markdown",
      "metadata": {
        "id": "wvaJM4jquDKu"
      },
      "source": [
        "Challenge:\n",
        "Dalam waktu 10 Menit buatlah sebuah dictionary dengan key bilangan 1 sampai 10 dan value berupa jenis bilangan tersebut genap atau ganjil, misal 1:ganjil, 2:genap, dst"
      ]
    },
    {
      "cell_type": "code",
      "metadata": {
        "id": "O60kbnast3uw",
        "colab": {
          "base_uri": "https://localhost:8080/"
        },
        "outputId": "f7711c4b-f545-4436-c3ab-6fd55f79e3ca"
      },
      "source": [
        "dict={\"1\":\"ganjil\",\"2\":\"genap\",\"3\":\"ganjil\",\"4\":\"genap\",\"5\":\"ganjil\",\"6\":\"genap\",\"7\":\"ganjil\",\"8\":\"genap\",\"9\":\"ganjil\",\"10\":\"genap\"}\n",
        "dict\n"
      ],
      "execution_count": 4,
      "outputs": [
        {
          "output_type": "execute_result",
          "data": {
            "text/plain": [
              "{'1': 'ganjil',\n",
              " '10': 'genap',\n",
              " '2': 'genap',\n",
              " '3': 'ganjil',\n",
              " '4': 'genap',\n",
              " '5': 'ganjil',\n",
              " '6': 'genap',\n",
              " '7': 'ganjil',\n",
              " '8': 'genap',\n",
              " '9': 'ganjil'}"
            ]
          },
          "metadata": {
            "tags": []
          },
          "execution_count": 4
        }
      ]
    },
    {
      "cell_type": "code",
      "metadata": {
        "colab": {
          "base_uri": "https://localhost:8080/"
        },
        "id": "J_zDUkX4AxAB",
        "outputId": "b72d9238-2036-414b-b874-2dabef1d3a16"
      },
      "source": [
        "pilihan = int(input(\"masukan pilihan: 1.ganjil | 2.genap : \"))\n",
        "\n",
        "if pilihan == 1:\n",
        "  for x in range (10):\n",
        "    if x % 2 == 1:\n",
        "      print(x)\n",
        "\n",
        "else:\n",
        "  for x in range (10):\n",
        "    if x % 2 == 0:\n",
        "      print(x)"
      ],
      "execution_count": 3,
      "outputs": [
        {
          "output_type": "stream",
          "text": [
            "masukan pilihan: 1.ganjil | 2.genap : 2\n",
            "0\n",
            "2\n",
            "4\n",
            "6\n",
            "8\n"
          ],
          "name": "stdout"
        }
      ]
    },
    {
      "cell_type": "code",
      "metadata": {
        "id": "S9P5KBXJAw74"
      },
      "source": [
        ""
      ],
      "execution_count": null,
      "outputs": []
    },
    {
      "cell_type": "markdown",
      "metadata": {
        "id": "1AZxLV9-uVYV"
      },
      "source": [
        "Share link colabmu di GC, pastikan setting share untuk semua orang di UAD"
      ]
    }
  ]
}