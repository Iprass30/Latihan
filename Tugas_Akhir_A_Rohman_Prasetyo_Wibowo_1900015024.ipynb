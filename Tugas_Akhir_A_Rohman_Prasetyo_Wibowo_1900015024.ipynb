{
  "nbformat": 4,
  "nbformat_minor": 0,
  "metadata": {
    "colab": {
      "name": "Tugas Akhir A - Rohman Prasetyo Wibowo - 1900015024.ipynb",
      "provenance": [],
      "collapsed_sections": [],
      "include_colab_link": true
    },
    "kernelspec": {
      "name": "python3",
      "display_name": "Python 3"
    }
  },
  "cells": [
    {
      "cell_type": "markdown",
      "metadata": {
        "id": "view-in-github",
        "colab_type": "text"
      },
      "source": [
        "<a href=\"https://colab.research.google.com/github/Iprass30/Latihan/blob/main/Tugas_Akhir_A_Rohman_Prasetyo_Wibowo_1900015024.ipynb\" target=\"_parent\"><img src=\"https://colab.research.google.com/assets/colab-badge.svg\" alt=\"Open In Colab\"/></a>"
      ]
    },
    {
      "cell_type": "markdown",
      "metadata": {
        "id": "oDHEL6DqpPVJ"
      },
      "source": [
        "#**...**\r\n",
        "\r\n"
      ]
    },
    {
      "cell_type": "markdown",
      "metadata": {
        "id": "DgO3iYs1pTUx"
      },
      "source": [
        ""
      ]
    },
    {
      "cell_type": "markdown",
      "metadata": {
        "id": "7ltsR5GipWFY"
      },
      "source": [
        "## Pertanyaan Analisis"
      ]
    },
    {
      "cell_type": "markdown",
      "metadata": {
        "id": "52LcEOjKfpcr"
      },
      "source": [
        "1. Menentukan jumlah total ukuran setiap spesies\r\n",
        "2. Menentukan jumlah total tinggi per spesies\r\n",
        "3. Menghitung jumlah total suatu spesies"
      ]
    },
    {
      "cell_type": "markdown",
      "metadata": {
        "id": "Kph01135pYvy"
      },
      "source": [
        "## Data Preparation"
      ]
    },
    {
      "cell_type": "code",
      "metadata": {
        "id": "Gms02If3pAw8",
        "colab": {
          "base_uri": "https://localhost:8080/",
          "height": 470
        },
        "outputId": "bbddef2a-b9e2-4603-95a2-96f4a33494e3"
      },
      "source": [
        "import numpy as np\r\n",
        "import pandas as pd\r\n",
        "#membaca file\r\n",
        "Fish_df= pd.read_csv(\"/content/Fish.csv\")\r\n",
        "#Keterangan isi dalam index\r\n",
        "print(Fish_df.keys())\r\n",
        "Fish_df"
      ],
      "execution_count": 15,
      "outputs": [
        {
          "output_type": "stream",
          "text": [
            "Index(['Species', 'Weight', 'Length1', 'Length2', 'Length3', 'Height',\n",
            "       'Width'],\n",
            "      dtype='object')\n"
          ],
          "name": "stdout"
        },
        {
          "output_type": "execute_result",
          "data": {
            "text/html": [
              "<div>\n",
              "<style scoped>\n",
              "    .dataframe tbody tr th:only-of-type {\n",
              "        vertical-align: middle;\n",
              "    }\n",
              "\n",
              "    .dataframe tbody tr th {\n",
              "        vertical-align: top;\n",
              "    }\n",
              "\n",
              "    .dataframe thead th {\n",
              "        text-align: right;\n",
              "    }\n",
              "</style>\n",
              "<table border=\"1\" class=\"dataframe\">\n",
              "  <thead>\n",
              "    <tr style=\"text-align: right;\">\n",
              "      <th></th>\n",
              "      <th>Species</th>\n",
              "      <th>Weight</th>\n",
              "      <th>Length1</th>\n",
              "      <th>Length2</th>\n",
              "      <th>Length3</th>\n",
              "      <th>Height</th>\n",
              "      <th>Width</th>\n",
              "    </tr>\n",
              "  </thead>\n",
              "  <tbody>\n",
              "    <tr>\n",
              "      <th>0</th>\n",
              "      <td>Bream</td>\n",
              "      <td>242.0</td>\n",
              "      <td>23.2</td>\n",
              "      <td>25.4</td>\n",
              "      <td>30.0</td>\n",
              "      <td>11.5200</td>\n",
              "      <td>4.0200</td>\n",
              "    </tr>\n",
              "    <tr>\n",
              "      <th>1</th>\n",
              "      <td>Bream</td>\n",
              "      <td>290.0</td>\n",
              "      <td>24.0</td>\n",
              "      <td>26.3</td>\n",
              "      <td>31.2</td>\n",
              "      <td>12.4800</td>\n",
              "      <td>4.3056</td>\n",
              "    </tr>\n",
              "    <tr>\n",
              "      <th>2</th>\n",
              "      <td>Bream</td>\n",
              "      <td>340.0</td>\n",
              "      <td>23.9</td>\n",
              "      <td>26.5</td>\n",
              "      <td>31.1</td>\n",
              "      <td>12.3778</td>\n",
              "      <td>4.6961</td>\n",
              "    </tr>\n",
              "    <tr>\n",
              "      <th>3</th>\n",
              "      <td>Bream</td>\n",
              "      <td>363.0</td>\n",
              "      <td>26.3</td>\n",
              "      <td>29.0</td>\n",
              "      <td>33.5</td>\n",
              "      <td>12.7300</td>\n",
              "      <td>4.4555</td>\n",
              "    </tr>\n",
              "    <tr>\n",
              "      <th>4</th>\n",
              "      <td>Bream</td>\n",
              "      <td>430.0</td>\n",
              "      <td>26.5</td>\n",
              "      <td>29.0</td>\n",
              "      <td>34.0</td>\n",
              "      <td>12.4440</td>\n",
              "      <td>5.1340</td>\n",
              "    </tr>\n",
              "    <tr>\n",
              "      <th>...</th>\n",
              "      <td>...</td>\n",
              "      <td>...</td>\n",
              "      <td>...</td>\n",
              "      <td>...</td>\n",
              "      <td>...</td>\n",
              "      <td>...</td>\n",
              "      <td>...</td>\n",
              "    </tr>\n",
              "    <tr>\n",
              "      <th>154</th>\n",
              "      <td>Smelt</td>\n",
              "      <td>12.2</td>\n",
              "      <td>11.5</td>\n",
              "      <td>12.2</td>\n",
              "      <td>13.4</td>\n",
              "      <td>2.0904</td>\n",
              "      <td>1.3936</td>\n",
              "    </tr>\n",
              "    <tr>\n",
              "      <th>155</th>\n",
              "      <td>Smelt</td>\n",
              "      <td>13.4</td>\n",
              "      <td>11.7</td>\n",
              "      <td>12.4</td>\n",
              "      <td>13.5</td>\n",
              "      <td>2.4300</td>\n",
              "      <td>1.2690</td>\n",
              "    </tr>\n",
              "    <tr>\n",
              "      <th>156</th>\n",
              "      <td>Smelt</td>\n",
              "      <td>12.2</td>\n",
              "      <td>12.1</td>\n",
              "      <td>13.0</td>\n",
              "      <td>13.8</td>\n",
              "      <td>2.2770</td>\n",
              "      <td>1.2558</td>\n",
              "    </tr>\n",
              "    <tr>\n",
              "      <th>157</th>\n",
              "      <td>Smelt</td>\n",
              "      <td>19.7</td>\n",
              "      <td>13.2</td>\n",
              "      <td>14.3</td>\n",
              "      <td>15.2</td>\n",
              "      <td>2.8728</td>\n",
              "      <td>2.0672</td>\n",
              "    </tr>\n",
              "    <tr>\n",
              "      <th>158</th>\n",
              "      <td>Smelt</td>\n",
              "      <td>19.9</td>\n",
              "      <td>13.8</td>\n",
              "      <td>15.0</td>\n",
              "      <td>16.2</td>\n",
              "      <td>2.9322</td>\n",
              "      <td>1.8792</td>\n",
              "    </tr>\n",
              "  </tbody>\n",
              "</table>\n",
              "<p>159 rows × 7 columns</p>\n",
              "</div>"
            ],
            "text/plain": [
              "    Species  Weight  Length1  Length2  Length3   Height   Width\n",
              "0     Bream   242.0     23.2     25.4     30.0  11.5200  4.0200\n",
              "1     Bream   290.0     24.0     26.3     31.2  12.4800  4.3056\n",
              "2     Bream   340.0     23.9     26.5     31.1  12.3778  4.6961\n",
              "3     Bream   363.0     26.3     29.0     33.5  12.7300  4.4555\n",
              "4     Bream   430.0     26.5     29.0     34.0  12.4440  5.1340\n",
              "..      ...     ...      ...      ...      ...      ...     ...\n",
              "154   Smelt    12.2     11.5     12.2     13.4   2.0904  1.3936\n",
              "155   Smelt    13.4     11.7     12.4     13.5   2.4300  1.2690\n",
              "156   Smelt    12.2     12.1     13.0     13.8   2.2770  1.2558\n",
              "157   Smelt    19.7     13.2     14.3     15.2   2.8728  2.0672\n",
              "158   Smelt    19.9     13.8     15.0     16.2   2.9322  1.8792\n",
              "\n",
              "[159 rows x 7 columns]"
            ]
          },
          "metadata": {
            "tags": []
          },
          "execution_count": 15
        }
      ]
    },
    {
      "cell_type": "code",
      "metadata": {
        "colab": {
          "base_uri": "https://localhost:8080/"
        },
        "id": "QIZqA7WX8dP2",
        "outputId": "570b3460-11dc-4009-b4a3-5bbf03c72f45"
      },
      "source": [
        "#1. Menentukan jumlah total ukuran setiap spesies\r\n",
        "d1_Fish_df=Fish_df.groupby([\"Species\"])\r\n",
        "d1_Fish_df['Width'].sum()"
      ],
      "execution_count": 16,
      "outputs": [
        {
          "output_type": "execute_result",
          "data": {
            "text/plain": [
              "Species\n",
              "Bream        189.9665\n",
              "Parkki        35.4281\n",
              "Perch        265.7605\n",
              "Pike          86.4685\n",
              "Roach         73.1570\n",
              "Smelt         18.7613\n",
              "Whitefish     32.8383\n",
              "Name: Width, dtype: float64"
            ]
          },
          "metadata": {
            "tags": []
          },
          "execution_count": 16
        }
      ]
    },
    {
      "cell_type": "code",
      "metadata": {
        "colab": {
          "base_uri": "https://localhost:8080/"
        },
        "id": "_2Ud0thK8dMj",
        "outputId": "96f27b67-dc6b-4f15-c5e5-ccba512a598c"
      },
      "source": [
        "#2. menentukan jumlah total tinggi per spesies\r\n",
        "d2_Fish_df=Fish_df.groupby([\"Species\"])\r\n",
        "d2_Fish_df['Height'].sum()"
      ],
      "execution_count": 17,
      "outputs": [
        {
          "output_type": "execute_result",
          "data": {
            "text/plain": [
              "Species\n",
              "Bream        531.4124\n",
              "Parkki        98.5867\n",
              "Perch        440.2647\n",
              "Pike         131.1341\n",
              "Roach        133.8959\n",
              "Smelt         30.9312\n",
              "Whitefish     60.1630\n",
              "Name: Height, dtype: float64"
            ]
          },
          "metadata": {
            "tags": []
          },
          "execution_count": 17
        }
      ]
    },
    {
      "cell_type": "code",
      "metadata": {
        "colab": {
          "base_uri": "https://localhost:8080/",
          "height": 1000
        },
        "id": "qfa5yk1L_Wdt",
        "outputId": "76a3e159-8731-4358-87e1-e7f8224886fc"
      },
      "source": [
        "#3. Menghitung jumlah total suatu spesies\r\n",
        "Fish_df.Species.value_counts()\r\n",
        "df=Fish_df[Fish_df['Species']=='Bream']\r\n",
        "df"
      ],
      "execution_count": 43,
      "outputs": [
        {
          "output_type": "execute_result",
          "data": {
            "text/html": [
              "<div>\n",
              "<style scoped>\n",
              "    .dataframe tbody tr th:only-of-type {\n",
              "        vertical-align: middle;\n",
              "    }\n",
              "\n",
              "    .dataframe tbody tr th {\n",
              "        vertical-align: top;\n",
              "    }\n",
              "\n",
              "    .dataframe thead th {\n",
              "        text-align: right;\n",
              "    }\n",
              "</style>\n",
              "<table border=\"1\" class=\"dataframe\">\n",
              "  <thead>\n",
              "    <tr style=\"text-align: right;\">\n",
              "      <th></th>\n",
              "      <th>Species</th>\n",
              "      <th>Weight</th>\n",
              "      <th>Length1</th>\n",
              "      <th>Length2</th>\n",
              "      <th>Length3</th>\n",
              "      <th>Height</th>\n",
              "      <th>Width</th>\n",
              "    </tr>\n",
              "  </thead>\n",
              "  <tbody>\n",
              "    <tr>\n",
              "      <th>0</th>\n",
              "      <td>Bream</td>\n",
              "      <td>242.0</td>\n",
              "      <td>23.2</td>\n",
              "      <td>25.4</td>\n",
              "      <td>30.0</td>\n",
              "      <td>11.5200</td>\n",
              "      <td>4.0200</td>\n",
              "    </tr>\n",
              "    <tr>\n",
              "      <th>1</th>\n",
              "      <td>Bream</td>\n",
              "      <td>290.0</td>\n",
              "      <td>24.0</td>\n",
              "      <td>26.3</td>\n",
              "      <td>31.2</td>\n",
              "      <td>12.4800</td>\n",
              "      <td>4.3056</td>\n",
              "    </tr>\n",
              "    <tr>\n",
              "      <th>2</th>\n",
              "      <td>Bream</td>\n",
              "      <td>340.0</td>\n",
              "      <td>23.9</td>\n",
              "      <td>26.5</td>\n",
              "      <td>31.1</td>\n",
              "      <td>12.3778</td>\n",
              "      <td>4.6961</td>\n",
              "    </tr>\n",
              "    <tr>\n",
              "      <th>3</th>\n",
              "      <td>Bream</td>\n",
              "      <td>363.0</td>\n",
              "      <td>26.3</td>\n",
              "      <td>29.0</td>\n",
              "      <td>33.5</td>\n",
              "      <td>12.7300</td>\n",
              "      <td>4.4555</td>\n",
              "    </tr>\n",
              "    <tr>\n",
              "      <th>4</th>\n",
              "      <td>Bream</td>\n",
              "      <td>430.0</td>\n",
              "      <td>26.5</td>\n",
              "      <td>29.0</td>\n",
              "      <td>34.0</td>\n",
              "      <td>12.4440</td>\n",
              "      <td>5.1340</td>\n",
              "    </tr>\n",
              "    <tr>\n",
              "      <th>5</th>\n",
              "      <td>Bream</td>\n",
              "      <td>450.0</td>\n",
              "      <td>26.8</td>\n",
              "      <td>29.7</td>\n",
              "      <td>34.7</td>\n",
              "      <td>13.6024</td>\n",
              "      <td>4.9274</td>\n",
              "    </tr>\n",
              "    <tr>\n",
              "      <th>6</th>\n",
              "      <td>Bream</td>\n",
              "      <td>500.0</td>\n",
              "      <td>26.8</td>\n",
              "      <td>29.7</td>\n",
              "      <td>34.5</td>\n",
              "      <td>14.1795</td>\n",
              "      <td>5.2785</td>\n",
              "    </tr>\n",
              "    <tr>\n",
              "      <th>7</th>\n",
              "      <td>Bream</td>\n",
              "      <td>390.0</td>\n",
              "      <td>27.6</td>\n",
              "      <td>30.0</td>\n",
              "      <td>35.0</td>\n",
              "      <td>12.6700</td>\n",
              "      <td>4.6900</td>\n",
              "    </tr>\n",
              "    <tr>\n",
              "      <th>8</th>\n",
              "      <td>Bream</td>\n",
              "      <td>450.0</td>\n",
              "      <td>27.6</td>\n",
              "      <td>30.0</td>\n",
              "      <td>35.1</td>\n",
              "      <td>14.0049</td>\n",
              "      <td>4.8438</td>\n",
              "    </tr>\n",
              "    <tr>\n",
              "      <th>9</th>\n",
              "      <td>Bream</td>\n",
              "      <td>500.0</td>\n",
              "      <td>28.5</td>\n",
              "      <td>30.7</td>\n",
              "      <td>36.2</td>\n",
              "      <td>14.2266</td>\n",
              "      <td>4.9594</td>\n",
              "    </tr>\n",
              "    <tr>\n",
              "      <th>10</th>\n",
              "      <td>Bream</td>\n",
              "      <td>475.0</td>\n",
              "      <td>28.4</td>\n",
              "      <td>31.0</td>\n",
              "      <td>36.2</td>\n",
              "      <td>14.2628</td>\n",
              "      <td>5.1042</td>\n",
              "    </tr>\n",
              "    <tr>\n",
              "      <th>11</th>\n",
              "      <td>Bream</td>\n",
              "      <td>500.0</td>\n",
              "      <td>28.7</td>\n",
              "      <td>31.0</td>\n",
              "      <td>36.2</td>\n",
              "      <td>14.3714</td>\n",
              "      <td>4.8146</td>\n",
              "    </tr>\n",
              "    <tr>\n",
              "      <th>12</th>\n",
              "      <td>Bream</td>\n",
              "      <td>500.0</td>\n",
              "      <td>29.1</td>\n",
              "      <td>31.5</td>\n",
              "      <td>36.4</td>\n",
              "      <td>13.7592</td>\n",
              "      <td>4.3680</td>\n",
              "    </tr>\n",
              "    <tr>\n",
              "      <th>13</th>\n",
              "      <td>Bream</td>\n",
              "      <td>340.0</td>\n",
              "      <td>29.5</td>\n",
              "      <td>32.0</td>\n",
              "      <td>37.3</td>\n",
              "      <td>13.9129</td>\n",
              "      <td>5.0728</td>\n",
              "    </tr>\n",
              "    <tr>\n",
              "      <th>14</th>\n",
              "      <td>Bream</td>\n",
              "      <td>600.0</td>\n",
              "      <td>29.4</td>\n",
              "      <td>32.0</td>\n",
              "      <td>37.2</td>\n",
              "      <td>14.9544</td>\n",
              "      <td>5.1708</td>\n",
              "    </tr>\n",
              "    <tr>\n",
              "      <th>15</th>\n",
              "      <td>Bream</td>\n",
              "      <td>600.0</td>\n",
              "      <td>29.4</td>\n",
              "      <td>32.0</td>\n",
              "      <td>37.2</td>\n",
              "      <td>15.4380</td>\n",
              "      <td>5.5800</td>\n",
              "    </tr>\n",
              "    <tr>\n",
              "      <th>16</th>\n",
              "      <td>Bream</td>\n",
              "      <td>700.0</td>\n",
              "      <td>30.4</td>\n",
              "      <td>33.0</td>\n",
              "      <td>38.3</td>\n",
              "      <td>14.8604</td>\n",
              "      <td>5.2854</td>\n",
              "    </tr>\n",
              "    <tr>\n",
              "      <th>17</th>\n",
              "      <td>Bream</td>\n",
              "      <td>700.0</td>\n",
              "      <td>30.4</td>\n",
              "      <td>33.0</td>\n",
              "      <td>38.5</td>\n",
              "      <td>14.9380</td>\n",
              "      <td>5.1975</td>\n",
              "    </tr>\n",
              "    <tr>\n",
              "      <th>18</th>\n",
              "      <td>Bream</td>\n",
              "      <td>610.0</td>\n",
              "      <td>30.9</td>\n",
              "      <td>33.5</td>\n",
              "      <td>38.6</td>\n",
              "      <td>15.6330</td>\n",
              "      <td>5.1338</td>\n",
              "    </tr>\n",
              "    <tr>\n",
              "      <th>19</th>\n",
              "      <td>Bream</td>\n",
              "      <td>650.0</td>\n",
              "      <td>31.0</td>\n",
              "      <td>33.5</td>\n",
              "      <td>38.7</td>\n",
              "      <td>14.4738</td>\n",
              "      <td>5.7276</td>\n",
              "    </tr>\n",
              "    <tr>\n",
              "      <th>20</th>\n",
              "      <td>Bream</td>\n",
              "      <td>575.0</td>\n",
              "      <td>31.3</td>\n",
              "      <td>34.0</td>\n",
              "      <td>39.5</td>\n",
              "      <td>15.1285</td>\n",
              "      <td>5.5695</td>\n",
              "    </tr>\n",
              "    <tr>\n",
              "      <th>21</th>\n",
              "      <td>Bream</td>\n",
              "      <td>685.0</td>\n",
              "      <td>31.4</td>\n",
              "      <td>34.0</td>\n",
              "      <td>39.2</td>\n",
              "      <td>15.9936</td>\n",
              "      <td>5.3704</td>\n",
              "    </tr>\n",
              "    <tr>\n",
              "      <th>22</th>\n",
              "      <td>Bream</td>\n",
              "      <td>620.0</td>\n",
              "      <td>31.5</td>\n",
              "      <td>34.5</td>\n",
              "      <td>39.7</td>\n",
              "      <td>15.5227</td>\n",
              "      <td>5.2801</td>\n",
              "    </tr>\n",
              "    <tr>\n",
              "      <th>23</th>\n",
              "      <td>Bream</td>\n",
              "      <td>680.0</td>\n",
              "      <td>31.8</td>\n",
              "      <td>35.0</td>\n",
              "      <td>40.6</td>\n",
              "      <td>15.4686</td>\n",
              "      <td>6.1306</td>\n",
              "    </tr>\n",
              "    <tr>\n",
              "      <th>24</th>\n",
              "      <td>Bream</td>\n",
              "      <td>700.0</td>\n",
              "      <td>31.9</td>\n",
              "      <td>35.0</td>\n",
              "      <td>40.5</td>\n",
              "      <td>16.2405</td>\n",
              "      <td>5.5890</td>\n",
              "    </tr>\n",
              "    <tr>\n",
              "      <th>25</th>\n",
              "      <td>Bream</td>\n",
              "      <td>725.0</td>\n",
              "      <td>31.8</td>\n",
              "      <td>35.0</td>\n",
              "      <td>40.9</td>\n",
              "      <td>16.3600</td>\n",
              "      <td>6.0532</td>\n",
              "    </tr>\n",
              "    <tr>\n",
              "      <th>26</th>\n",
              "      <td>Bream</td>\n",
              "      <td>720.0</td>\n",
              "      <td>32.0</td>\n",
              "      <td>35.0</td>\n",
              "      <td>40.6</td>\n",
              "      <td>16.3618</td>\n",
              "      <td>6.0900</td>\n",
              "    </tr>\n",
              "    <tr>\n",
              "      <th>27</th>\n",
              "      <td>Bream</td>\n",
              "      <td>714.0</td>\n",
              "      <td>32.7</td>\n",
              "      <td>36.0</td>\n",
              "      <td>41.5</td>\n",
              "      <td>16.5170</td>\n",
              "      <td>5.8515</td>\n",
              "    </tr>\n",
              "    <tr>\n",
              "      <th>28</th>\n",
              "      <td>Bream</td>\n",
              "      <td>850.0</td>\n",
              "      <td>32.8</td>\n",
              "      <td>36.0</td>\n",
              "      <td>41.6</td>\n",
              "      <td>16.8896</td>\n",
              "      <td>6.1984</td>\n",
              "    </tr>\n",
              "    <tr>\n",
              "      <th>29</th>\n",
              "      <td>Bream</td>\n",
              "      <td>1000.0</td>\n",
              "      <td>33.5</td>\n",
              "      <td>37.0</td>\n",
              "      <td>42.6</td>\n",
              "      <td>18.9570</td>\n",
              "      <td>6.6030</td>\n",
              "    </tr>\n",
              "    <tr>\n",
              "      <th>30</th>\n",
              "      <td>Bream</td>\n",
              "      <td>920.0</td>\n",
              "      <td>35.0</td>\n",
              "      <td>38.5</td>\n",
              "      <td>44.1</td>\n",
              "      <td>18.0369</td>\n",
              "      <td>6.3063</td>\n",
              "    </tr>\n",
              "    <tr>\n",
              "      <th>31</th>\n",
              "      <td>Bream</td>\n",
              "      <td>955.0</td>\n",
              "      <td>35.0</td>\n",
              "      <td>38.5</td>\n",
              "      <td>44.0</td>\n",
              "      <td>18.0840</td>\n",
              "      <td>6.2920</td>\n",
              "    </tr>\n",
              "    <tr>\n",
              "      <th>32</th>\n",
              "      <td>Bream</td>\n",
              "      <td>925.0</td>\n",
              "      <td>36.2</td>\n",
              "      <td>39.5</td>\n",
              "      <td>45.3</td>\n",
              "      <td>18.7542</td>\n",
              "      <td>6.7497</td>\n",
              "    </tr>\n",
              "    <tr>\n",
              "      <th>33</th>\n",
              "      <td>Bream</td>\n",
              "      <td>975.0</td>\n",
              "      <td>37.4</td>\n",
              "      <td>41.0</td>\n",
              "      <td>45.9</td>\n",
              "      <td>18.6354</td>\n",
              "      <td>6.7473</td>\n",
              "    </tr>\n",
              "    <tr>\n",
              "      <th>34</th>\n",
              "      <td>Bream</td>\n",
              "      <td>950.0</td>\n",
              "      <td>38.0</td>\n",
              "      <td>41.0</td>\n",
              "      <td>46.5</td>\n",
              "      <td>17.6235</td>\n",
              "      <td>6.3705</td>\n",
              "    </tr>\n",
              "  </tbody>\n",
              "</table>\n",
              "</div>"
            ],
            "text/plain": [
              "   Species  Weight  Length1  Length2  Length3   Height   Width\n",
              "0    Bream   242.0     23.2     25.4     30.0  11.5200  4.0200\n",
              "1    Bream   290.0     24.0     26.3     31.2  12.4800  4.3056\n",
              "2    Bream   340.0     23.9     26.5     31.1  12.3778  4.6961\n",
              "3    Bream   363.0     26.3     29.0     33.5  12.7300  4.4555\n",
              "4    Bream   430.0     26.5     29.0     34.0  12.4440  5.1340\n",
              "5    Bream   450.0     26.8     29.7     34.7  13.6024  4.9274\n",
              "6    Bream   500.0     26.8     29.7     34.5  14.1795  5.2785\n",
              "7    Bream   390.0     27.6     30.0     35.0  12.6700  4.6900\n",
              "8    Bream   450.0     27.6     30.0     35.1  14.0049  4.8438\n",
              "9    Bream   500.0     28.5     30.7     36.2  14.2266  4.9594\n",
              "10   Bream   475.0     28.4     31.0     36.2  14.2628  5.1042\n",
              "11   Bream   500.0     28.7     31.0     36.2  14.3714  4.8146\n",
              "12   Bream   500.0     29.1     31.5     36.4  13.7592  4.3680\n",
              "13   Bream   340.0     29.5     32.0     37.3  13.9129  5.0728\n",
              "14   Bream   600.0     29.4     32.0     37.2  14.9544  5.1708\n",
              "15   Bream   600.0     29.4     32.0     37.2  15.4380  5.5800\n",
              "16   Bream   700.0     30.4     33.0     38.3  14.8604  5.2854\n",
              "17   Bream   700.0     30.4     33.0     38.5  14.9380  5.1975\n",
              "18   Bream   610.0     30.9     33.5     38.6  15.6330  5.1338\n",
              "19   Bream   650.0     31.0     33.5     38.7  14.4738  5.7276\n",
              "20   Bream   575.0     31.3     34.0     39.5  15.1285  5.5695\n",
              "21   Bream   685.0     31.4     34.0     39.2  15.9936  5.3704\n",
              "22   Bream   620.0     31.5     34.5     39.7  15.5227  5.2801\n",
              "23   Bream   680.0     31.8     35.0     40.6  15.4686  6.1306\n",
              "24   Bream   700.0     31.9     35.0     40.5  16.2405  5.5890\n",
              "25   Bream   725.0     31.8     35.0     40.9  16.3600  6.0532\n",
              "26   Bream   720.0     32.0     35.0     40.6  16.3618  6.0900\n",
              "27   Bream   714.0     32.7     36.0     41.5  16.5170  5.8515\n",
              "28   Bream   850.0     32.8     36.0     41.6  16.8896  6.1984\n",
              "29   Bream  1000.0     33.5     37.0     42.6  18.9570  6.6030\n",
              "30   Bream   920.0     35.0     38.5     44.1  18.0369  6.3063\n",
              "31   Bream   955.0     35.0     38.5     44.0  18.0840  6.2920\n",
              "32   Bream   925.0     36.2     39.5     45.3  18.7542  6.7497\n",
              "33   Bream   975.0     37.4     41.0     45.9  18.6354  6.7473\n",
              "34   Bream   950.0     38.0     41.0     46.5  17.6235  6.3705"
            ]
          },
          "metadata": {
            "tags": []
          },
          "execution_count": 43
        }
      ]
    },
    {
      "cell_type": "code",
      "metadata": {
        "colab": {
          "base_uri": "https://localhost:8080/"
        },
        "id": "cMaSVciWNzhg",
        "outputId": "783c78d4-7d86-4a78-dfe6-f5bd101b1913"
      },
      "source": [
        "df.Weight.sum()"
      ],
      "execution_count": 45,
      "outputs": [
        {
          "output_type": "execute_result",
          "data": {
            "text/plain": [
              "21624.0"
            ]
          },
          "metadata": {
            "tags": []
          },
          "execution_count": 45
        }
      ]
    },
    {
      "cell_type": "markdown",
      "metadata": {
        "id": "eKxgIsbNpd43"
      },
      "source": [
        "## Data Visualization"
      ]
    },
    {
      "cell_type": "code",
      "metadata": {
        "colab": {
          "base_uri": "https://localhost:8080/",
          "height": 265
        },
        "id": "Tf65Ow-zAiNQ",
        "outputId": "bf9c0adc-5bad-453a-a282-ed53eba67398"
      },
      "source": [
        "import matplotlib.pyplot as plt\r\n",
        "import numpy as np\r\n",
        "#visualisasi dari soal Menentukan jumlah total ukuran setiap spesies\r\n",
        "Species=np.array([\"Bream\",\"Parkki\",\"Perch\",\"Pike\",\"Roach\",\"Smelt\",\"Whitefish\"])\r\n",
        "Jumlah=np.array([189.9665,35.4281,265.7605,86.4685,73.1570,18.7613,32.8383])\r\n",
        "\r\n",
        "plt.bar(Species, Jumlah)\r\n",
        "plt.show()"
      ],
      "execution_count": 47,
      "outputs": [
        {
          "output_type": "display_data",
          "data": {
            "image/png": "[encoded data removed]",
            "text/plain": [
              "<Figure size 432x288 with 1 Axes>"
            ]
          },
          "metadata": {
            "tags": [],
            "needs_background": "light"
          }
        }
      ]
    },
    {
      "cell_type": "code",
      "metadata": {
        "colab": {
          "base_uri": "https://localhost:8080/",
          "height": 265
        },
        "id": "14oTVWvFW_zi",
        "outputId": "f545aa50-8d03-4bf9-8112-19b7e5f3718a"
      },
      "source": [
        "#Visualisasi dari soal menentukan jumlah total tinggi per spesies\r\n",
        "import matplotlib.pyplot as plt\r\n",
        "import numpy as np\r\n",
        "Species=np.array([\"Bream\",\"Parkki\",\"Perch\",\"Pike\",\"Roach\",\"Smelt\",\"Whitefish\"])\r\n",
        "Jumlah=np.array([531.4124, 98.5867, 440.2647, 131.1341, 133.8959, 30.9312, 60.1630])\r\n",
        "\r\n",
        "plt.bar(Species, Jumlah)\r\n",
        "plt.show()\r\n"
      ],
      "execution_count": 58,
      "outputs": [
        {
          "output_type": "display_data",
          "data": {
            "image/png": "[encoded data removed]",
            "text/plain": [
              "<Figure size 432x288 with 1 Axes>"
            ]
          },
          "metadata": {
            "tags": [],
            "needs_background": "light"
          }
        }
      ]
    }
  ]
}