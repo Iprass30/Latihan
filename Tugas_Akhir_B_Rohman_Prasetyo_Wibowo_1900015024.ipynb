{
  "nbformat": 4,
  "nbformat_minor": 0,
  "metadata": {
    "colab": {
      "name": "Tugas Akhir B - Rohman Prasetyo Wibowo - 1900015024.ipynb",
      "provenance": [],
      "collapsed_sections": [],
      "authorship_tag": "ABX9TyOxlabAnuCqdUc24XYJ1R20",
      "include_colab_link": true
    },
    "kernelspec": {
      "name": "python3",
      "display_name": "Python 3"
    }
  },
  "cells": [
    {
      "cell_type": "markdown",
      "metadata": {
        "id": "view-in-github",
        "colab_type": "text"
      },
      "source": [
        "<a href=\"https://colab.research.google.com/github/Iprass30/Latihan/blob/main/Tugas_Akhir_B_Rohman_Prasetyo_Wibowo_1900015024.ipynb\" target=\"_parent\"><img src=\"https://colab.research.google.com/assets/colab-badge.svg\" alt=\"Open In Colab\"/></a>"
      ]
    },
    {
      "cell_type": "markdown",
      "metadata": {
        "id": "SrM_F74Du7if"
      },
      "source": [
        "#Balok dan Limas"
      ]
    },
    {
      "cell_type": "markdown",
      "metadata": {
        "id": "HEB8Iq-MvR0z"
      },
      "source": [
        "##Balok a b c yang digabung dengan imas dengan tiggi t\r\n",
        "input: a,b,c,t\r\n",
        "Output: Volume balok, Volume Limas, dan Volume Gabungan"
      ]
    },
    {
      "cell_type": "code",
      "metadata": {
        "id": "EZTyETAqvVaq"
      },
      "source": [
        "#Program\r\n",
        "def volume_balok(a,b,c):\r\n",
        "  volume=a*b*c\r\n",
        "  return volume\r\n",
        "\r\n",
        "def volume_limas(a,b,t):\r\n",
        "  volume=(a*b*t)/3\r\n",
        "  return volume\r\n",
        "\r\n",
        "def volume_gabungan(a,b,c,t):\r\n",
        "  v1=volume_balok(a,b,c)\r\n",
        "  v2=volume_limas(a,b,c)\r\n",
        "  volume=v1+v2\r\n",
        "  return volume"
      ],
      "execution_count": 5,
      "outputs": []
    },
    {
      "cell_type": "code",
      "metadata": {
        "colab": {
          "base_uri": "https://localhost:8080/"
        },
        "id": "HxMfle8rxWxL",
        "outputId": "3bd774d4-51a0-4810-a42f-73b497e20f4e"
      },
      "source": [
        "#a=3, b=5, c=8\r\n",
        "volume_balok(3,5,8)"
      ],
      "execution_count": 6,
      "outputs": [
        {
          "output_type": "execute_result",
          "data": {
            "text/plain": [
              "120"
            ]
          },
          "metadata": {
            "tags": []
          },
          "execution_count": 6
        }
      ]
    },
    {
      "cell_type": "code",
      "metadata": {
        "colab": {
          "base_uri": "https://localhost:8080/"
        },
        "id": "at_f9lnqyFIl",
        "outputId": "8ff9bbd2-22b1-495f-f118-9668ee70901e"
      },
      "source": [
        "volume_limas(3,5,8)"
      ],
      "execution_count": 7,
      "outputs": [
        {
          "output_type": "execute_result",
          "data": {
            "text/plain": [
              "40.0"
            ]
          },
          "metadata": {
            "tags": []
          },
          "execution_count": 7
        }
      ]
    },
    {
      "cell_type": "code",
      "metadata": {
        "colab": {
          "base_uri": "https://localhost:8080/"
        },
        "id": "DIhqECd4yRn0",
        "outputId": "3eeb9cbe-f147-4ea4-d31b-9d9adda89f0a"
      },
      "source": [
        "volume_gabungan(3,5,8,9)"
      ],
      "execution_count": 8,
      "outputs": [
        {
          "output_type": "execute_result",
          "data": {
            "text/plain": [
              "160.0"
            ]
          },
          "metadata": {
            "tags": []
          },
          "execution_count": 8
        }
      ]
    }
  ]
}